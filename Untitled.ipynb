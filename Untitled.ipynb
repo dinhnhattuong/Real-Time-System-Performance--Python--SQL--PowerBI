{
 "cells": [
  {
   "cell_type": "code",
   "execution_count": null,
   "id": "c75aab13",
   "metadata": {},
   "outputs": [],
   "source": [
    "# import libraries\n",
    "import psutil\n",
    "import time\n",
    "import pyodbc\n",
    "# connect to database\n",
    "con = pyodbc.connect('Driver={SQL Server};'\n",
    "                    'Server=DESKTOP-F2UPQ57\\SQLEXPRESS;'\n",
    "                    'Database=System_Information;'\n",
    "                    'Trusted_Connection=yes;')\n",
    "cursor = con.cursor()\n",
    "while 1==1:\n",
    "    cpu_usage = psutil.cpu_percent()\n",
    "    memory_usage = psutil.virtual_memory()[2]\n",
    "    \n",
    "    cpu_interrupts = psutil.cpu_stats()[1]\n",
    "    cpu_calls = psutil.cpu_stats()[3]\n",
    "    \n",
    "    memory_used = psutil.virtual_memory()[3]\n",
    "    memory_free = psutil.virtual_memory()[4]\n",
    "    \n",
    "    bytes_sent = psutil.net_io_counters()[0]\n",
    "    bytes_received = psutil.net_io_counters()[1]\n",
    "    \n",
    "    disk_usage = psutil.disk_usage('/')[3]\n",
    "    \n",
    "    cursor.execute('insert into Performance values (GETDATE(),'\n",
    "                   + str(cpu_usage) + ', '\n",
    "                   + str(memory_usage) + ', '\n",
    "                   + str(cpu_interrupts) + ','\n",
    "                   + str(cpu_calls) + ','\n",
    "                   + str(memory_used) + ','\n",
    "                   + str(memory_free) + ','\n",
    "                   + str(bytes_sent) + ','\n",
    "                   + str(bytes_received) + ','\n",
    "                   + str(disk_usage) + ')'\n",
    "                   )\n",
    "    con.commit()\n",
    "    time.sleep(1)"
   ]
  },
  {
   "cell_type": "code",
   "execution_count": null,
   "id": "16d1c511",
   "metadata": {},
   "outputs": [],
   "source": []
  }
 ],
 "metadata": {
  "kernelspec": {
   "display_name": "Python 3 (ipykernel)",
   "language": "python",
   "name": "python3"
  },
  "language_info": {
   "codemirror_mode": {
    "name": "ipython",
    "version": 3
   },
   "file_extension": ".py",
   "mimetype": "text/x-python",
   "name": "python",
   "nbconvert_exporter": "python",
   "pygments_lexer": "ipython3",
   "version": "3.10.9"
  }
 },
 "nbformat": 4,
 "nbformat_minor": 5
}
